{
 "cells": [
  {
   "cell_type": "markdown",
   "metadata": {},
   "source": [
    "# Dependencies"
   ]
  },
  {
   "cell_type": "code",
   "execution_count": null,
   "metadata": {},
   "outputs": [],
   "source": [
    "from model.detector import Detector\n",
    "from model.loss import DetectorLoss\n",
    "import torch\n",
    "import yaml\n",
    "from dataset import Dataset, collate_fn\n",
    "import tqdm\n",
    "import math\n",
    "from model.evaluator import CocoDetectionEvaluator\n",
    "import os\n",
    "import datetime"
   ]
  },
  {
   "cell_type": "markdown",
   "metadata": {},
   "source": [
    "# Initialization"
   ]
  },
  {
   "cell_type": "code",
   "execution_count": null,
   "metadata": {},
   "outputs": [],
   "source": [
    "configuration = yaml.safe_load(open(\"config.yaml\", \"r\"))\n",
    "epochs = configuration[\"epochs\"]\n",
    "batch_size = configuration[\"batch_size\"]\n",
    "learning_rate = configuration[\"learning_rate\"]\n",
    "milestones = configuration[\"milestones\"]\n",
    "input_size = configuration[\"input_size\"]\n",
    "num_workers = configuration[\"num_workers\"]\n",
    "\n",
    "device = torch.device(\"cuda\" if torch.cuda.is_available() else \"cpu\")\n",
    "\n",
    "model = Detector(len(configuration[\"classes\"]), True).to(device)\n",
    "loss = DetectorLoss(device)\n",
    "evaluator = CocoDetectionEvaluator(configuration[\"classes\"], device)\n",
    "optimizer = torch.optim.SGD(\n",
    "    params=model.parameters(),\n",
    "    lr=learning_rate,\n",
    "    momentum=0.949,\n",
    "    weight_decay=0.0005,\n",
    ")\n",
    "scheduler = torch.optim.lr_scheduler.MultiStepLR(\n",
    "    optimizer, milestones=milestones, gamma=0.1\n",
    ")\n",
    "epoch = 0\n",
    "batch = 0\n",
    "\n",
    "dummy_input = torch.rand(1, 3, input_size, input_size).to(device)\n",
    "\n",
    "train_dataset = Dataset(configuration, augment=True)\n",
    "test_dataset = Dataset(configuration, test=True)\n",
    "train_dataloader = torch.utils.data.DataLoader(\n",
    "    train_dataset,\n",
    "    batch_size=batch_size,\n",
    "    shuffle=True,\n",
    "    num_workers=num_workers,\n",
    "    persistent_workers=True,\n",
    "    collate_fn=collate_fn,\n",
    ")\n",
    "test_dataloader = torch.utils.data.DataLoader(\n",
    "    test_dataset,\n",
    "    batch_size=batch_size,\n",
    "    num_workers=num_workers,\n",
    "    persistent_workers=True,\n",
    "    collate_fn=collate_fn,\n",
    ")"
   ]
  },
  {
   "cell_type": "markdown",
   "metadata": {},
   "source": [
    "# Dataset summary"
   ]
  },
  {
   "cell_type": "code",
   "execution_count": null,
   "metadata": {},
   "outputs": [],
   "source": [
    "# print(len(train_dataset), len(test_dataset))\n",
    "# train_dataset.show_distribution()\n",
    "# test_dataset.show_distribution()\n",
    "# train_dataset.show_sample()"
   ]
  },
  {
   "cell_type": "markdown",
   "metadata": {},
   "source": [
    "# Load weights"
   ]
  },
  {
   "cell_type": "code",
   "execution_count": null,
   "metadata": {},
   "outputs": [],
   "source": [
    "load = None\n",
    "\n",
    "if load is not None and load != \"\":\n",
    "    with open(f\"{load}/metadata\", \"r\") as file:\n",
    "        epoch = int(file.readlines()[1].split(\";\")[0]) + 1\n",
    "    model.load_state_dict(torch.load(f\"{load}/weights.pt\"))\n",
    "    optimizer.load_state_dict(torch.load(f\"{load}/optimizer.pt\"))\n",
    "    scheduler.load_state_dict(torch.load(f\"{load}/scheduler.pt\"))"
   ]
  },
  {
   "cell_type": "markdown",
   "metadata": {},
   "source": [
    "# Train"
   ]
  },
  {
   "cell_type": "code",
   "execution_count": null,
   "metadata": {},
   "outputs": [],
   "source": [
    "checkpoints_path = (\n",
    "    f\"./checkpoints/{datetime.datetime.now().strftime('%Y-%m-%d_%H-%M-%S')}\"\n",
    ")\n",
    "\n",
    "for epoch in range(epoch, epoch + epochs + 1):\n",
    "    model.train()\n",
    "\n",
    "    progress_bar = tqdm.tqdm(train_dataloader)\n",
    "    for x, y in progress_bar:\n",
    "        x = x.to(device)\n",
    "        y = y.to(device)\n",
    "\n",
    "        predictions = model(x)\n",
    "\n",
    "        iou, obj, cls, total = loss(predictions, y)\n",
    "\n",
    "        total.backward()\n",
    "        optimizer.step()\n",
    "        optimizer.zero_grad()\n",
    "\n",
    "        for g in optimizer.param_groups:\n",
    "            warmup = 5 * len(train_dataloader)\n",
    "            if batch <= warmup:\n",
    "                scale = math.pow(batch / warmup, 4)\n",
    "                g[\"lr\"] = learning_rate * scale\n",
    "            lr = g[\"lr\"]\n",
    "\n",
    "        info = f\"Epoch: {epoch}\\t| LR: {lr}\\t| IoU: {iou}\\t| Obj: {obj}\\t| Cls: {cls}\\t| Total: {total}\\t\"\n",
    "        progress_bar.set_description(info)\n",
    "        batch += 1\n",
    "\n",
    "    if epoch % 10 == 0 and epoch > 0:\n",
    "        model.eval()\n",
    "        print(\"Compute mAP...\")\n",
    "        mAP05 = evaluator.compute_map(test_dataloader, model)\n",
    "        dir = f\"./{checkpoints_path}/{epoch}_{mAP05}\"\n",
    "        os.makedirs(dir, exist_ok=True)\n",
    "        torch.save(\n",
    "            model.state_dict(),\n",
    "            f\"{dir}/weights.pt\",\n",
    "        )\n",
    "        torch.save(\n",
    "            optimizer.state_dict(),\n",
    "            f\"{dir}/optimizer.pt\",\n",
    "        )\n",
    "        torch.save(\n",
    "            scheduler.state_dict(),\n",
    "            f\"{dir}/scheduler.pt\",\n",
    "        )\n",
    "        torch.onnx.export(\n",
    "            model,\n",
    "            dummy_input,\n",
    "            f\"{dir}/model.onnx\",\n",
    "            export_params=True,\n",
    "            input_names=[\"input\"],\n",
    "            output_names=[\"output\"],\n",
    "            dynamic_axes={\n",
    "                \"input\": {0: \"batch\", 2: \"width\", 3: \"height\"},\n",
    "                \"output\": {0: \"batch\"},\n",
    "            },\n",
    "            do_constant_folding=True,\n",
    "        )\n",
    "        with open(f\"{dir}/metadata\", \"w\") as file:\n",
    "            file.write(\";\".join([\"epoch\", \"mAP05\"]) + \"\\n\")\n",
    "            file.write(\";\".join([str(epoch), str(mAP05)]))\n",
    "    scheduler.step()"
   ]
  }
 ],
 "metadata": {
  "kernelspec": {
   "display_name": "mojo",
   "language": "python",
   "name": "python3"
  },
  "language_info": {
   "codemirror_mode": {
    "name": "ipython",
    "version": 3
   },
   "file_extension": ".py",
   "mimetype": "text/x-python",
   "name": "python",
   "nbconvert_exporter": "python",
   "pygments_lexer": "ipython3",
   "version": "3.10.14"
  }
 },
 "nbformat": 4,
 "nbformat_minor": 2
}
